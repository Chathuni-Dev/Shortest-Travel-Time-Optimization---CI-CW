{
  "cells": [
    {
      "cell_type": "code",
      "execution_count": 68,
      "metadata": {
        "id": "Vyfuhsl8-ayt"
      },
      "outputs": [],
      "source": [
        "import pandas as pd\n",
        "import numpy as np\n",
        "import xgboost as xgb\n",
        "\n",
        "from copy import copy\n",
        "import datetime\n",
        "import pickle\n",
        "from geopy.geocoders import Nominatim"
      ]
    },
    {
      "cell_type": "code",
      "execution_count": 69,
      "metadata": {
        "id": "aq6IVzFa-cFj"
      },
      "outputs": [],
      "source": [
        "filename = \"trained_model.sav\""
      ]
    },
    {
      "cell_type": "code",
      "execution_count": 70,
      "metadata": {
        "colab": {
          "base_uri": "https://localhost:8080/",
          "height": 175
        },
        "id": "Zq_ZuEMb-cLK",
        "outputId": "da2d34c7-7a62-4fcd-d530-154144ea9c28"
      },
      "outputs": [],
      "source": [
        "loaded_model = pickle.load(open(filename, 'rb'))"
      ]
    },
    {
      "cell_type": "code",
      "execution_count": 71,
      "metadata": {
        "id": "_N13sMIj-cOE"
      },
      "outputs": [],
      "source": [
        "#Sample date\n",
        "\n",
        "date_list = [4, 6, 2016] #April 6, 2016\n",
        "\n",
        "year = int(date_list[2])\n",
        "month = int(date_list[1])\n",
        "day = int(date_list[0])\n",
        "\n",
        "my_date = datetime.date(year, month, day)"
      ]
    },
    {
      "cell_type": "code",
      "execution_count": 72,
      "metadata": {
        "id": "BihuvCaa-cQ8"
      },
      "outputs": [],
      "source": [
        "#Sample test locations\n",
        "\n",
        "test_locations = {'L1': (40.819688, -73.915091),\n",
        "                  'L2': (40.815421, -73.941761),\n",
        "                  'L3': (40.764198, -73.910785),\n",
        "                  'L4': (40.768790, -73.953285),\n",
        "                  'L5': (40.734851, -73.952950),\n",
        "                  'L6': (40.743613, -73.977998),\n",
        "                  'L7': (40.745313, -73.993793),\n",
        "                  'L8': (40.662713, -73.946101),\n",
        "                  'L9': (40.703761, -73.886496),\n",
        "                  'L10': (40.713620, -73.943076),\n",
        "                  'L11': (40.725212, -73.809179)\n",
        "             }"
      ]
    },
    {
      "cell_type": "code",
      "execution_count": 73,
      "metadata": {},
      "outputs": [],
      "source": [
        "geolocator = Nominatim(user_agent=\"Specify_your_apps_name_here\")\n",
        "addresses = []\n",
        "\n",
        "for key in test_locations:\n",
        "    location = geolocator.reverse(test_locations[key])\n",
        "    addresses.append(location.address)"
      ]
    },
    {
      "cell_type": "code",
      "execution_count": 74,
      "metadata": {},
      "outputs": [
        {
          "data": {
            "text/plain": [
              "['424, East 155th Street, Melrose, Bronx County, The Bronx, City of New York, New York, 10455, United States',\n",
              " '137, West 136th Street, Harlem, Manhattan, New York County, City of New York, New York, 10030, United States',\n",
              " 'Citi Bike - 28 Av / 44 St, 28th Avenue, Queens County, City of New York, New York, 11377, United States',\n",
              " '435, East 74th Street, Lenox Hill, Manhattan, New York County, City of New York, New York, 10021, United States',\n",
              " '211, Freeman Street, Brooklyn, Kings County, City of New York, New York, 11222, United States',\n",
              " '232, East 32nd Street, Manhattan Community Board 6, Manhattan, New York County, City of New York, New York, 10016, United States',\n",
              " '159, West 25th Street, Manhattan Community Board 4, Manhattan, New York County, City of New York, New York, 10001, United States',\n",
              " '486, Brooklyn Avenue, Crown Heights, Brooklyn, Kings County, City of New York, New York, 11225, United States',\n",
              " '70-38, 67th Place, Glendale, Queens County, City of New York, New York, 11385, United States',\n",
              " '194, Devoe Street, Williamsburg, Brooklyn, Kings County, City of New York, New York, 11211, United States',\n",
              " '158-46, 76th Avenue, Utopia, Queens County, City of New York, New York, 11366, United States']"
            ]
          },
          "execution_count": 74,
          "metadata": {},
          "output_type": "execute_result"
        }
      ],
      "source": [
        "addresses"
      ]
    },
    {
      "cell_type": "code",
      "execution_count": 75,
      "metadata": {},
      "outputs": [],
      "source": [
        "test_addresses = {'L1': '424 East 155th Street NY',\n",
        "                  'L2': '137 West 136th Street NY',\n",
        "                  'L3': '43-11 28th Avenue NY',\n",
        "                  'L4': '435 East 74th Street NY',\n",
        "                  'L5': '211 Freeman Street NY',\n",
        "                  'L6': '232 East 32nd Street NY',\n",
        "                  'L7': '159 West 25th Street NY',\n",
        "                  'L8': '486 Brooklyn Avenue NY',\n",
        "                  'L9': '70-38 67th Place NY',\n",
        "                  'L10': '194 Devoe Street NY',\n",
        "                  'L11': '158-46 76th Avenue NY'\n",
        "             }"
      ]
    },
    {
      "cell_type": "code",
      "execution_count": 76,
      "metadata": {},
      "outputs": [
        {
          "data": {
            "text/plain": [
              "['L1', 'L2', 'L8', 'L10', 'L6', 'L3', 'L4', 'L7', 'L9', 'L5', 'L11', 'L1']"
            ]
          },
          "execution_count": 76,
          "metadata": {},
          "output_type": "execute_result"
        }
      ],
      "source": [
        "def create_guess(points):\n",
        "    guess = copy(points)\n",
        "    np.random.shuffle(guess)\n",
        "    guess.append(guess[0])\n",
        "    return list(guess)\n",
        "\n",
        "create_guess(list(test_locations.keys()))"
      ]
    },
    {
      "cell_type": "code",
      "execution_count": 77,
      "metadata": {},
      "outputs": [
        {
          "name": "stdout",
          "output_type": "stream",
          "text": [
            "[['L8', 'L3', 'L7', 'L2', 'L10', 'L9', 'L11', 'L4', 'L5', 'L6', 'L1', 'L8'], ['L3', 'L6', 'L5', 'L2', 'L4', 'L1', 'L10', 'L7', 'L9', 'L11', 'L8', 'L3'], ['L9', 'L3', 'L10', 'L5', 'L11', 'L6', 'L1', 'L4', 'L7', 'L2', 'L8', 'L9'], ['L2', 'L4', 'L8', 'L5', 'L11', 'L6', 'L7', 'L10', 'L3', 'L9', 'L1', 'L2'], ['L9', 'L2', 'L6', 'L11', 'L5', 'L3', 'L8', 'L7', 'L4', 'L1', 'L10', 'L9'], ['L2', 'L3', 'L11', 'L10', 'L4', 'L1', 'L7', 'L9', 'L8', 'L6', 'L5', 'L2'], ['L1', 'L10', 'L8', 'L11', 'L2', 'L9', 'L7', 'L5', 'L4', 'L6', 'L3', 'L1'], ['L8', 'L7', 'L9', 'L1', 'L2', 'L5', 'L6', 'L4', 'L10', 'L3', 'L11', 'L8'], ['L7', 'L11', 'L6', 'L4', 'L9', 'L3', 'L5', 'L2', 'L1', 'L10', 'L8', 'L7'], ['L4', 'L1', 'L10', 'L8', 'L11', 'L7', 'L6', 'L5', 'L2', 'L3', 'L9', 'L4']]\n"
          ]
        }
      ],
      "source": [
        "def create_generation(points, population=100):\n",
        "    generation = [create_guess(points) for _ in range(population)]\n",
        "    return generation\n",
        "\n",
        "test_generation = create_generation(list(test_locations.keys()), population=10)\n",
        "print(test_generation)"
      ]
    },
    {
      "cell_type": "code",
      "execution_count": 78,
      "metadata": {},
      "outputs": [],
      "source": [
        "def travel_time_between_points(point1_id, point2_id, hour, date, passenger_count = 1, \n",
        "                               store_and_fwd_flag = 0, pickup_minute = 0):\n",
        "\n",
        "    model_data = {'passenger_count': passenger_count,\n",
        "                  'pickup_longitude' : point1_id[1],\n",
        "                  'pickup_latitude' : point1_id[0],\n",
        "                  'dropoff_longitude' : point2_id[1],\n",
        "                  'dropoff_latitude' : point2_id[0],\n",
        "                  'store_and_fwd_flag' : store_and_fwd_flag,\n",
        "                  'pickup_month' : my_date.month,\n",
        "                  'pickup_day' : my_date.day,\n",
        "                  'pickup_weekday' : my_date.weekday(),\n",
        "                  'pickup_hour': hour,\n",
        "                  'pickup_minute' : pickup_minute,\n",
        "                  'latitude_difference' : point2_id[0] - point1_id[0],\n",
        "                  'longitude_difference' : point2_id[1] - point1_id[1],\n",
        "                  'trip_distance' : 0.621371 * 6371 * (abs(2 * np.arctan2(np.sqrt(np.square(np.sin((abs(point2_id[0] - point1_id[0]) * np.pi / 180) / 2))), \n",
        "                                  np.sqrt(1-(np.square(np.sin((abs(point2_id[0] - point1_id[0]) * np.pi / 180) / 2)))))) + \\\n",
        "                                     abs(2 * np.arctan2(np.sqrt(np.square(np.sin((abs(point2_id[1] - point1_id[1]) * np.pi / 180) / 2))), \n",
        "                                  np.sqrt(1-(np.square(np.sin((abs(point2_id[1] - point1_id[1]) * np.pi / 180) / 2)))))))\n",
        "                 }\n",
        "\n",
        "    df = pd.DataFrame([model_data], columns=model_data.keys())\n",
        "    \n",
        "    pred = np.exp(loaded_model.predict(xgb.DMatrix(df))) - 1\n",
        "    \n",
        "    return pred[0]"
      ]
    },
    {
      "cell_type": "code",
      "execution_count": 79,
      "metadata": {},
      "outputs": [],
      "source": [
        "coordinates = test_locations"
      ]
    },
    {
      "cell_type": "code",
      "execution_count": 80,
      "metadata": {},
      "outputs": [
        {
          "name": "stdout",
          "output_type": "stream",
          "text": [
            "[(['L8', 'L3', 'L7', 'L2', 'L10', 'L9', 'L11', 'L4', 'L5', 'L6', 'L1', 'L8'], 285.5938673019409), (['L3', 'L6', 'L5', 'L2', 'L4', 'L1', 'L10', 'L7', 'L9', 'L11', 'L8', 'L3'], 281.1325635910034), (['L9', 'L3', 'L10', 'L5', 'L11', 'L6', 'L1', 'L4', 'L7', 'L2', 'L8', 'L9'], 276.293981552124), (['L2', 'L4', 'L8', 'L5', 'L11', 'L6', 'L7', 'L10', 'L3', 'L9', 'L1', 'L2'], 258.7122392654419), (['L9', 'L2', 'L6', 'L11', 'L5', 'L3', 'L8', 'L7', 'L4', 'L1', 'L10', 'L9'], 289.76482582092285), (['L2', 'L3', 'L11', 'L10', 'L4', 'L1', 'L7', 'L9', 'L8', 'L6', 'L5', 'L2'], 274.3329954147339), (['L1', 'L10', 'L8', 'L11', 'L2', 'L9', 'L7', 'L5', 'L4', 'L6', 'L3', 'L1'], 258.19812870025635), (['L8', 'L7', 'L9', 'L1', 'L2', 'L5', 'L6', 'L4', 'L10', 'L3', 'L11', 'L8'], 251.3185796737671), (['L7', 'L11', 'L6', 'L4', 'L9', 'L3', 'L5', 'L2', 'L1', 'L10', 'L8', 'L7'], 262.0527591705322), (['L4', 'L1', 'L10', 'L8', 'L11', 'L7', 'L6', 'L5', 'L2', 'L3', 'L9', 'L4'], 252.8922472000122)]\n"
          ]
        }
      ],
      "source": [
        "def fitness_score(guess):\n",
        "    score = 0\n",
        "    for ix, point_id in enumerate(guess[:-1]):\n",
        "        score += travel_time_between_points(coordinates[point_id], coordinates[guess[ix+1]], 11, my_date)\n",
        "    return score\n",
        "\n",
        "def check_fitness(guesses):\n",
        "    fitness_indicator = []\n",
        "    for guess in guesses:\n",
        "        fitness_indicator.append((guess, fitness_score(guess)))\n",
        "    return fitness_indicator\n",
        "\n",
        "print(check_fitness(test_generation))"
      ]
    },
    {
      "cell_type": "code",
      "execution_count": 81,
      "metadata": {},
      "outputs": [],
      "source": [
        "def get_breeders_from_generation(guesses, take_best_N=10, take_random_N=5, verbose=False, mutation_rate=0.1):\n",
        "    # First, get the top guesses from last time\n",
        "    fit_scores = check_fitness(guesses)\n",
        "    sorted_guesses = sorted(fit_scores, key=lambda x: x[1]) # sorts so lowest is first, which we want\n",
        "    new_generation = [x[0] for x in sorted_guesses[:take_best_N]]\n",
        "    best_guess = new_generation[0]\n",
        "    \n",
        "    if verbose:\n",
        "        print(best_guess)\n",
        "  \n",
        "    for _ in range(take_random_N):\n",
        "        ix = np.random.randint(len(guesses))\n",
        "        new_generation.append(guesses[ix])\n",
        "    \n",
        "    np.random.shuffle(new_generation)\n",
        "    return new_generation, best_guess\n",
        "\n",
        "def make_child(parent1, parent2):\n",
        "    list_of_ids_for_parent1 = list(np.random.choice(parent1, replace=False, size=len(parent1)//2))\n",
        "    child = [-99 for _ in parent1]\n",
        "    \n",
        "    for ix in range(0, len(list_of_ids_for_parent1)):\n",
        "        child[ix] = parent1[ix]\n",
        "    for ix, gene in enumerate(child):\n",
        "        if gene == -99:\n",
        "            for gene2 in parent2:\n",
        "                if gene2 not in child:\n",
        "                    child[ix] = gene2\n",
        "                    break\n",
        "    child[-1] = child[0]\n",
        "    return child\n",
        "\n",
        "def make_children(old_generation, children_per_couple=1):\n",
        "    mid_point = len(old_generation)//2\n",
        "    next_generation = [] \n",
        "    \n",
        "    for ix, parent in enumerate(old_generation[:mid_point]):\n",
        "        for _ in range(children_per_couple):\n",
        "            next_generation.append(make_child(parent, old_generation[-ix-1]))\n",
        "    return next_generation"
      ]
    },
    {
      "cell_type": "code",
      "execution_count": 82,
      "metadata": {},
      "outputs": [
        {
          "name": "stdout",
          "output_type": "stream",
          "text": [
            "Generation 0: 500\n",
            "['L4', 'L6', 'L7', 'L10', 'L9', 'L8', 'L5', 'L1', 'L2', 'L3', 'L11', 'L4']\n",
            "Generation 5: 525\n",
            "['L9', 'L8', 'L7', 'L6', 'L1', 'L3', 'L10', 'L5', 'L4', 'L2', 'L11', 'L9']\n",
            "Generation 10: 525\n",
            "['L3', 'L10', 'L11', 'L9', 'L8', 'L7', 'L6', 'L4', 'L5', 'L1', 'L2', 'L3']\n",
            "Generation 15: 525\n",
            "['L3', 'L10', 'L11', 'L9', 'L8', 'L7', 'L6', 'L4', 'L5', 'L1', 'L2', 'L3']\n",
            "Generation 20: 525\n",
            "['L3', 'L10', 'L11', 'L9', 'L8', 'L7', 'L6', 'L4', 'L5', 'L1', 'L2', 'L3']\n",
            "Generation 25: 525\n",
            "['L3', 'L10', 'L11', 'L9', 'L8', 'L7', 'L6', 'L4', 'L5', 'L1', 'L2', 'L3']\n",
            "Generation 30: 525\n",
            "['L3', 'L10', 'L11', 'L9', 'L8', 'L7', 'L6', 'L4', 'L5', 'L1', 'L2', 'L3']\n",
            "Generation 35: 525\n",
            "['L3', 'L10', 'L11', 'L9', 'L8', 'L7', 'L6', 'L4', 'L5', 'L1', 'L2', 'L3']\n",
            "Generation 40: 525\n",
            "['L3', 'L10', 'L11', 'L9', 'L8', 'L7', 'L6', 'L4', 'L5', 'L1', 'L2', 'L3']\n",
            "Generation 45: 525\n",
            "['L3', 'L10', 'L11', 'L9', 'L8', 'L7', 'L6', 'L4', 'L5', 'L1', 'L2', 'L3']\n",
            "Generation 50: 525\n",
            "['L3', 'L10', 'L11', 'L9', 'L8', 'L7', 'L6', 'L4', 'L5', 'L1', 'L2', 'L3']\n",
            "Generation 55: 525\n",
            "['L3', 'L10', 'L11', 'L9', 'L8', 'L7', 'L6', 'L4', 'L5', 'L1', 'L2', 'L3']\n",
            "Generation 60: 525\n",
            "['L3', 'L10', 'L11', 'L9', 'L8', 'L7', 'L6', 'L4', 'L5', 'L1', 'L2', 'L3']\n",
            "Generation 65: 525\n",
            "['L3', 'L10', 'L11', 'L9', 'L8', 'L7', 'L6', 'L4', 'L5', 'L1', 'L2', 'L3']\n",
            "Generation 70: 525\n",
            "['L3', 'L10', 'L11', 'L9', 'L8', 'L7', 'L6', 'L4', 'L5', 'L1', 'L2', 'L3']\n",
            "Generation 75: 525\n",
            "['L3', 'L10', 'L11', 'L9', 'L8', 'L7', 'L6', 'L4', 'L5', 'L1', 'L2', 'L3']\n",
            "Generation 80: 525\n",
            "['L3', 'L10', 'L11', 'L9', 'L8', 'L7', 'L6', 'L4', 'L5', 'L1', 'L2', 'L3']\n",
            "Generation 85: 525\n",
            "['L3', 'L10', 'L11', 'L9', 'L8', 'L7', 'L6', 'L4', 'L5', 'L1', 'L2', 'L3']\n",
            "Generation 90: 525\n",
            "['L3', 'L10', 'L11', 'L9', 'L8', 'L7', 'L6', 'L4', 'L5', 'L1', 'L2', 'L3']\n",
            "Generation 95: 525\n",
            "['L3', 'L10', 'L11', 'L9', 'L8', 'L7', 'L6', 'L4', 'L5', 'L1', 'L2', 'L3']\n"
          ]
        }
      ],
      "source": [
        "current_generation = create_generation(list(test_locations.keys()),population=500)\n",
        "print_every_n_generations = 5\n",
        "\n",
        "for i in range(100):\n",
        "    if not i % print_every_n_generations:\n",
        "        print(\"Generation %i: \"%i, end='')\n",
        "        print(len(current_generation))\n",
        "        is_verbose = True\n",
        "    else:\n",
        "        is_verbose = False\n",
        "    breeders, best_guess = get_breeders_from_generation(current_generation, \n",
        "                                                        take_best_N=250, take_random_N=100, \n",
        "                                                        verbose=is_verbose)\n",
        "    current_generation = make_children(breeders, children_per_couple=3)"
      ]
    },
    {
      "cell_type": "code",
      "execution_count": 83,
      "metadata": {},
      "outputs": [
        {
          "name": "stdout",
          "output_type": "stream",
          "text": [
            "Generation 5: 330\n",
            "Current Best Score:  214.5258026123047\n",
            "['L3', 'L4', 'L6', 'L7', 'L2', 'L1', 'L5', 'L11', 'L9', 'L8', 'L10', 'L3']\n",
            "Generation 10: 330\n",
            "Current Best Score:  200.77489280700684\n",
            "['L3', 'L4', 'L6', 'L7', 'L2', 'L1', 'L11', 'L8', 'L9', 'L10', 'L5', 'L3']\n",
            "Generation 15: 330\n",
            "Current Best Score:  214.5258026123047\n",
            "['L3', 'L10', 'L8', 'L9', 'L11', 'L5', 'L4', 'L6', 'L7', 'L2', 'L1', 'L3']\n",
            "Generation 20: 330\n",
            "Current Best Score:  214.5258026123047\n",
            "['L3', 'L10', 'L8', 'L9', 'L11', 'L5', 'L4', 'L6', 'L7', 'L2', 'L1', 'L3']\n",
            "Generation 25: 330\n",
            "Current Best Score:  214.5258026123047\n",
            "['L3', 'L10', 'L8', 'L9', 'L11', 'L5', 'L4', 'L6', 'L7', 'L2', 'L1', 'L3']\n",
            "Generation 30: 330\n",
            "Current Best Score:  214.5258026123047\n",
            "['L3', 'L10', 'L8', 'L9', 'L11', 'L5', 'L4', 'L6', 'L7', 'L2', 'L1', 'L3']\n",
            "Generation 35: 330\n",
            "Current Best Score:  214.5258026123047\n",
            "['L3', 'L10', 'L8', 'L9', 'L11', 'L5', 'L4', 'L6', 'L7', 'L2', 'L1', 'L3']\n",
            "Generation 40: 330\n",
            "Current Best Score:  214.5258026123047\n",
            "['L3', 'L10', 'L8', 'L9', 'L11', 'L5', 'L4', 'L6', 'L7', 'L2', 'L1', 'L3']\n",
            "Generation 45: 330\n",
            "Current Best Score:  214.5258026123047\n",
            "['L3', 'L10', 'L8', 'L9', 'L11', 'L5', 'L4', 'L6', 'L7', 'L2', 'L1', 'L3']\n",
            "Generation 50: 330\n",
            "Current Best Score:  214.5258026123047\n",
            "['L3', 'L10', 'L8', 'L9', 'L11', 'L5', 'L4', 'L6', 'L7', 'L2', 'L1', 'L3']\n",
            "Generation 55: 330\n",
            "Current Best Score:  214.5258026123047\n",
            "['L3', 'L10', 'L8', 'L9', 'L11', 'L5', 'L4', 'L6', 'L7', 'L2', 'L1', 'L3']\n",
            "Generation 60: 330\n",
            "Current Best Score:  214.5258026123047\n",
            "['L3', 'L10', 'L8', 'L9', 'L11', 'L5', 'L4', 'L6', 'L7', 'L2', 'L1', 'L3']\n",
            "Generation 65: 330\n",
            "Current Best Score:  214.5258026123047\n",
            "['L3', 'L10', 'L8', 'L9', 'L11', 'L5', 'L4', 'L6', 'L7', 'L2', 'L1', 'L3']\n",
            "Generation 70: 330\n",
            "Current Best Score:  214.5258026123047\n",
            "['L3', 'L10', 'L8', 'L9', 'L11', 'L5', 'L4', 'L6', 'L7', 'L2', 'L1', 'L3']\n",
            "Generation 75: 330\n",
            "Current Best Score:  214.5258026123047\n",
            "['L3', 'L10', 'L8', 'L9', 'L11', 'L5', 'L4', 'L6', 'L7', 'L2', 'L1', 'L3']\n",
            "Generation 80: 330\n",
            "Current Best Score:  214.5258026123047\n",
            "['L3', 'L10', 'L8', 'L9', 'L11', 'L5', 'L4', 'L6', 'L7', 'L2', 'L1', 'L3']\n",
            "Generation 85: 330\n",
            "Current Best Score:  214.5258026123047\n",
            "['L3', 'L10', 'L8', 'L9', 'L11', 'L5', 'L4', 'L6', 'L7', 'L2', 'L1', 'L3']\n",
            "Generation 90: 330\n",
            "Current Best Score:  214.5258026123047\n",
            "['L3', 'L10', 'L8', 'L9', 'L11', 'L5', 'L4', 'L6', 'L7', 'L2', 'L1', 'L3']\n",
            "Generation 95: 330\n",
            "Current Best Score:  214.5258026123047\n",
            "['L3', 'L10', 'L8', 'L9', 'L11', 'L5', 'L4', 'L6', 'L7', 'L2', 'L1', 'L3']\n"
          ]
        }
      ],
      "source": [
        "def evolve_to_solve(current_generation, max_generations, take_best_N, take_random_N,\n",
        "                    mutation_rate, children_per_couple, print_every_n_generations, verbose=False):\n",
        "\n",
        "    fitness_tracking = []\n",
        "    for i in range(max_generations):\n",
        "        if verbose and not i % print_every_n_generations and i > 0:\n",
        "            print(\"Generation %i: \"%i, end='')\n",
        "            print(len(current_generation))\n",
        "            print(\"Current Best Score: \", fitness_tracking[-1])\n",
        "            is_verbose = True\n",
        "        else:\n",
        "            is_verbose = False\n",
        "        breeders, best_guess = get_breeders_from_generation(current_generation, \n",
        "                                                            take_best_N=take_best_N, take_random_N=take_random_N, \n",
        "                                                            verbose=is_verbose, mutation_rate=mutation_rate)\n",
        "        fitness_tracking.append(fitness_score(best_guess))\n",
        "        current_generation = make_children(breeders, children_per_couple=children_per_couple)\n",
        "    \n",
        "    return fitness_tracking, best_guess\n",
        "\n",
        "current_generation = create_generation(list(test_locations.keys()),population=500)\n",
        "fitness_tracking, best_guess = evolve_to_solve(current_generation, 100, 150, 70, 0.5, 3, 5, verbose=True)"
      ]
    },
    {
      "cell_type": "code",
      "execution_count": 84,
      "metadata": {},
      "outputs": [
        {
          "data": {
            "image/png": "[encoded data removed]",
            "text/plain": [
              "<Figure size 432x288 with 1 Axes>"
            ]
          },
          "metadata": {
            "needs_background": "light"
          },
          "output_type": "display_data"
        }
      ],
      "source": [
        "import matplotlib.pyplot as plt\n",
        "\n",
        "# Plot all locations\n",
        "all_latitudes, all_longitudes = zip(*test_locations.values())\n",
        "plt.scatter(all_longitudes, all_latitudes, c='red', marker='o', label='Locations')\n",
        "\n",
        "# Plot lines connecting all locations in the order of the best guess\n",
        "for i in range(len(best_guess) - 1):\n",
        "    start_point = test_locations[best_guess[i]]\n",
        "    end_point = test_locations[best_guess[i + 1]]\n",
        "    plt.plot([start_point[1], end_point[1]], [start_point[0], end_point[0]], c='blue', linestyle='-')\n",
        "\n",
        "# Highlight the starting point\n",
        "plt.scatter(start_point[1], start_point[0], c='green', marker='s', label='Start')\n",
        "\n",
        "# Highlight the ending point\n",
        "plt.scatter(end_point[1], end_point[0], c='purple', marker='s', label='End')\n",
        "\n",
        "# Annotate each point with its identifier (L1, L2, L3, ...)\n",
        "for point_id, point in test_locations.items():\n",
        "    plt.annotate(point_id, (point[1], point[0]), fontsize=10, ha='right', va='bottom')\n",
        "\n",
        "# Set labels and title\n",
        "plt.title('Best Route Visualization')\n",
        "plt.xlabel('Longitude')\n",
        "plt.ylabel('Latitude')\n",
        "plt.legend()\n",
        "plt.grid(True)\n",
        "plt.show()"
      ]
    }
  ],
  "metadata": {
    "colab": {
      "provenance": []
    },
    "kernelspec": {
      "display_name": "Python 3",
      "name": "python3"
    },
    "language_info": {
      "codemirror_mode": {
        "name": "ipython",
        "version": 3
      },
      "file_extension": ".py",
      "mimetype": "text/x-python",
      "name": "python",
      "nbconvert_exporter": "python",
      "pygments_lexer": "ipython3",
      "version": "3.8.2"
    }
  },
  "nbformat": 4,
  "nbformat_minor": 0
}
